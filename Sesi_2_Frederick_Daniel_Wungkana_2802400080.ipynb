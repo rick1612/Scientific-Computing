{
  "nbformat": 4,
  "nbformat_minor": 0,
  "metadata": {
    "colab": {
      "provenance": [],
      "authorship_tag": "ABX9TyMLzEENntzT609we0ZSGN2O",
      "include_colab_link": true
    },
    "kernelspec": {
      "name": "python3",
      "display_name": "Python 3"
    },
    "language_info": {
      "name": "python"
    }
  },
  "cells": [
    {
      "cell_type": "markdown",
      "metadata": {
        "id": "view-in-github",
        "colab_type": "text"
      },
      "source": [
        "<a href=\"https://colab.research.google.com/github/rick1612/Scientific-Computing/blob/main/Sesi_2_Frederick_Daniel_Wungkana_2802400080.ipynb\" target=\"_parent\"><img src=\"https://colab.research.google.com/assets/colab-badge.svg\" alt=\"Open In Colab\"/></a>"
      ]
    },
    {
      "cell_type": "markdown",
      "source": [
        "nomer 1a"
      ],
      "metadata": {
        "id": "7meVbuME-IMz"
      }
    },
    {
      "cell_type": "code",
      "source": [
        "import numpy as np\n",
        "\n",
        "def gauss_seidel(A, b, x0, tol=0.001, max_iter=100):\n",
        "    n = len(b)\n",
        "    x = x0.copy()\n",
        "    for _ in range(max_iter):\n",
        "        x_new = x.copy()\n",
        "        for i in range(n):\n",
        "            s1 = np.dot(A[i, :i], x_new[:i])\n",
        "            s2 = np.dot(A[i, i+1:], x[i+1:])\n",
        "            x_new[i] = (b[i] - s1 - s2) / A[i, i]\n",
        "        if np.linalg.norm(x_new - x) < tol:\n",
        "            return x_new\n",
        "        x = x_new\n",
        "    return x\n",
        "\n",
        "# Sistem persamaan\n",
        "A = np.array([[2, 3, -1], [1, -1, 2], [3, 2, 1]])\n",
        "b = np.array([10, 4, 14])\n",
        "x0 = np.array([5.0, 5.0, 5.0])\n",
        "\n",
        "# Solusi dengan Gauss-Seidel\n",
        "sol_gs = gauss_seidel(A, b, x0)\n",
        "print(\"Solusi dengan Gauss-Seidel:\", sol_gs)"
      ],
      "metadata": {
        "colab": {
          "base_uri": "https://localhost:8080/"
        },
        "id": "SembMfay-HQ_",
        "outputId": "16baad1d-d5d0-4488-cdcd-9a9d672d7f0b"
      },
      "execution_count": 6,
      "outputs": [
        {
          "output_type": "stream",
          "name": "stdout",
          "text": [
            "Solusi dengan Gauss-Seidel: [-8.85379963e+93 -2.65613989e+94  7.96841967e+94]\n"
          ]
        }
      ]
    },
    {
      "cell_type": "markdown",
      "source": [
        "nomer 1b"
      ],
      "metadata": {
        "id": "xGJVt1bd-WHY"
      }
    },
    {
      "cell_type": "code",
      "source": [
        "# Solusi dengan NumPy\n",
        "sol_np = np.linalg.solve(A, b)\n",
        "print(\"Solusi dengan NumPy:\", sol_np)\n",
        "\n",
        "# Membandingkan hasil\n",
        "print(\"Perbandingan hasil:\")\n",
        "print(\"Gauss-Seidel:\", sol_gs)\n",
        "print(\"NumPy:\", sol_np)"
      ],
      "metadata": {
        "colab": {
          "base_uri": "https://localhost:8080/"
        },
        "id": "3qpbhZ3K-OsB",
        "outputId": "6b9f0141-8f6a-48c3-b082-fda32aca528e"
      },
      "execution_count": 7,
      "outputs": [
        {
          "output_type": "stream",
          "name": "stdout",
          "text": [
            "Solusi dengan NumPy: [0.65 4.15 3.75]\n",
            "Perbandingan hasil:\n",
            "Gauss-Seidel: [-8.85379963e+93 -2.65613989e+94  7.96841967e+94]\n",
            "NumPy: [0.65 4.15 3.75]\n"
          ]
        }
      ]
    },
    {
      "cell_type": "markdown",
      "source": [
        "nomer 2 a"
      ],
      "metadata": {
        "id": "SIJ8dUiD9L2D"
      }
    },
    {
      "cell_type": "code",
      "execution_count": 1,
      "metadata": {
        "colab": {
          "base_uri": "https://localhost:8080/"
        },
        "id": "v_X8Ntj29F5E",
        "outputId": "8f0606d9-c627-4219-c098-7684e5ca3954"
      },
      "outputs": [
        {
          "output_type": "stream",
          "name": "stdout",
          "text": [
            "Solusi sistem 1: [-8.85379963e+93 -2.65613989e+94  7.96841967e+94]\n",
            "Solusi sistem 2: [ 3.00000022 -2.50000002  6.99999999]\n"
          ]
        }
      ],
      "source": [
        "import numpy as np\n",
        "\n",
        "def gauss_seidel(A, b, x0, tol=0.001, max_iter=100):\n",
        "    n = len(b)\n",
        "    x = x0.copy()\n",
        "    for _ in range(max_iter):\n",
        "        x_new = x.copy()\n",
        "        for i in range(n):\n",
        "            s1 = np.dot(A[i, :i], x_new[:i])\n",
        "            s2 = np.dot(A[i, i+1:], x[i+1:])\n",
        "            x_new[i] = (b[i] - s1 - s2) / A[i, i]\n",
        "        if np.linalg.norm(x_new - x) < tol:\n",
        "            return x_new\n",
        "        x = x_new\n",
        "    return x\n",
        "\n",
        "# Sistem persamaan 1\n",
        "A1 = np.array([[2, 3, -1], [1, -1, 2], [3, 2, 1]])\n",
        "b1 = np.array([10, 4, 14])\n",
        "x0 = np.array([5.0, 5.0, 5.0])\n",
        "\n",
        "sol1 = gauss_seidel(A1, b1, x0)\n",
        "print(\"Solusi sistem 1:\", sol1)\n",
        "\n",
        "# Sistem persamaan 2\n",
        "A2 = np.array([[3, -0.1, -0.2], [0.1, 7, -0.3], [0.3, -0.2, 10]])\n",
        "b2 = np.array([7.85, -19.3, 71.4])\n",
        "x0 = np.array([1.0, 2.0, 3.0])\n",
        "\n",
        "sol2 = gauss_seidel(A2, b2, x0)\n",
        "print(\"Solusi sistem 2:\", sol2)"
      ]
    },
    {
      "cell_type": "markdown",
      "source": [
        "nomer 2b"
      ],
      "metadata": {
        "id": "D0WibBA39PXE"
      }
    },
    {
      "cell_type": "code",
      "source": [
        "# Solusi dengan NumPy\n",
        "sol1_np = np.linalg.solve(A1, b1)\n",
        "print(\"Solusi sistem 1 dengan NumPy:\", sol1_np)\n",
        "\n",
        "sol2_np = np.linalg.solve(A2, b2)\n",
        "print(\"Solusi sistem 2 dengan NumPy:\", sol2_np)"
      ],
      "metadata": {
        "colab": {
          "base_uri": "https://localhost:8080/"
        },
        "id": "poVMVvDv9QvD",
        "outputId": "4f8ff262-53f9-479b-8234-6a25f4884777"
      },
      "execution_count": 2,
      "outputs": [
        {
          "output_type": "stream",
          "name": "stdout",
          "text": [
            "Solusi sistem 1 dengan NumPy: [0.65 4.15 3.75]\n",
            "Solusi sistem 2 dengan NumPy: [ 3.  -2.5  7. ]\n"
          ]
        }
      ]
    },
    {
      "cell_type": "markdown",
      "source": [
        "nomer 3a"
      ],
      "metadata": {
        "id": "Dp_u4ZNQ9Unq"
      }
    },
    {
      "cell_type": "code",
      "source": [
        "# Data\n",
        "X = np.array([5, 4, 6, 7, 5])\n",
        "Y = np.array([10, 8, 12, 14, 10])\n",
        "\n",
        "# Menghitung a dan b\n",
        "A = np.vstack([X, np.ones(len(X))]).T\n",
        "a, b = np.linalg.lstsq(A, Y, rcond=None)[0]\n",
        "\n",
        "print(f\"Persamaan regresi: y = {a:.2f}x + {b:.2f}\")"
      ],
      "metadata": {
        "colab": {
          "base_uri": "https://localhost:8080/"
        },
        "id": "Bu86W38O9WAO",
        "outputId": "f6913329-472a-4fd6-c5bd-b574c03da79b"
      },
      "execution_count": 9,
      "outputs": [
        {
          "output_type": "stream",
          "name": "stdout",
          "text": [
            "Persamaan regresi: y = 2.00x + 0.00\n"
          ]
        }
      ]
    },
    {
      "cell_type": "markdown",
      "source": [
        "nomer 3b"
      ],
      "metadata": {
        "id": "k7i4KUUp9aQE"
      }
    },
    {
      "cell_type": "code",
      "source": [
        "import matplotlib.pyplot as plt\n",
        "\n",
        "# Plot titik data\n",
        "plt.scatter(X, Y, color='blue', label='Data points')\n",
        "\n",
        "# Plot garis regresi\n",
        "plt.plot(X, a*X + b, color='red', label='Regresi linear')\n",
        "\n",
        "plt.xlabel('X')\n",
        "plt.ylabel('Y')\n",
        "plt.legend()\n",
        "plt.show()"
      ],
      "metadata": {
        "colab": {
          "base_uri": "https://localhost:8080/",
          "height": 449
        },
        "id": "wnbvGWnS9b89",
        "outputId": "bcff2c18-04ae-48a0-b422-98f7f70ed07f"
      },
      "execution_count": 10,
      "outputs": [
        {
          "output_type": "display_data",
          "data": {
            "text/plain": [
              "<Figure size 640x480 with 1 Axes>"
            ],
            "image/png": "[encoded data removed]"
          },
          "metadata": {}
        }
      ]
    }
  ]
}