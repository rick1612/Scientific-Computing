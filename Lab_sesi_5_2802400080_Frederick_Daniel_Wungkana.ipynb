{
  "nbformat": 4,
  "nbformat_minor": 0,
  "metadata": {
    "colab": {
      "provenance": [],
      "authorship_tag": "ABX9TyNb3qmCXiEPnZRkfu+pdnEJ",
      "include_colab_link": true
    },
    "kernelspec": {
      "name": "python3",
      "display_name": "Python 3"
    },
    "language_info": {
      "name": "python"
    }
  },
  "cells": [
    {
      "cell_type": "markdown",
      "metadata": {
        "id": "view-in-github",
        "colab_type": "text"
      },
      "source": [
        "<a href=\"https://colab.research.google.com/github/rick1612/Scientific-Computing/blob/main/Lab_sesi_5_2802400080_Frederick_Daniel_Wungkana.ipynb\" target=\"_parent\"><img src=\"https://colab.research.google.com/assets/colab-badge.svg\" alt=\"Open In Colab\"/></a>"
      ]
    },
    {
      "cell_type": "code",
      "execution_count": 6,
      "metadata": {
        "colab": {
          "base_uri": "https://localhost:8080/"
        },
        "id": "W66S8Ig81CPd",
        "outputId": "a2d42652-f849-454c-d8a9-5449240a4f43"
      },
      "outputs": [
        {
          "output_type": "stream",
          "name": "stdout",
          "text": [
            "1.9835235375094546\n",
            "0.01647646249054535\n",
            "1.9835235375094546\n",
            "0.01647646249054535\n",
            "2.0082484079079745\n",
            "-0.008248407907974542\n"
          ]
        }
      ],
      "source": [
        "import numpy as np\n",
        "\n",
        "a=0\n",
        "b=np.pi\n",
        "n=11\n",
        "h=(b-a)/(n-1)\n",
        "x=np.linspace(a,b,n)\n",
        "f=np.sin(x)\n",
        "\n",
        "I_riemannL=h*sum(f[:n-1])\n",
        "err_riemannL=2-I_riemannL\n",
        "\n",
        "I_riemannR=h*sum(f[1::1])\n",
        "err_riemannR=2-I_riemannR\n",
        "\n",
        "I_mid=h*sum(np.sin((x[:n-1]\\\n",
        "                    +x[1:])/2))\n",
        "\n",
        "err_mid=2-I_mid\n",
        "\n",
        "print(I_riemannL)\n",
        "print(err_riemannL)\n",
        "\n",
        "print(I_riemannR)\n",
        "print(err_riemannR)\n",
        "\n",
        "print(I_mid)\n",
        "print(err_mid)\n"
      ]
    },
    {
      "cell_type": "code",
      "source": [
        "import numpy as np\n",
        "\n",
        "a=0\n",
        "b=np.pi\n",
        "h=(b-a)/(n-1)\n",
        "x=np.linspace(a,b,n)\n",
        "f=np.sin(x)\n",
        "\n",
        "I_trap=(h/2)*(f[0]+\\\n",
        "              2*sum(f[1:n-1])+f[n-1])\n",
        "err_trap=2-I_trap\n",
        "\n",
        "print(I_trap)\n",
        "print(err_trap)"
      ],
      "metadata": {
        "colab": {
          "base_uri": "https://localhost:8080/"
        },
        "id": "9wS9_aCZ49V8",
        "outputId": "1bbe9a83-7185-40cd-e4c5-dac4927d31b3"
      },
      "execution_count": 7,
      "outputs": [
        {
          "output_type": "stream",
          "name": "stdout",
          "text": [
            "1.9835235375094546\n",
            "0.01647646249054535\n"
          ]
        }
      ]
    },
    {
      "cell_type": "code",
      "source": [
        "import numpy as np\n",
        "from scipy.integrate import trapezoid\n",
        "\n",
        "a=0\n",
        "b=np.pi\n",
        "h=(b-a)/(n-1)\n",
        "x=np.linspace(a,b,n)\n",
        "f=np.sin(x)\n",
        "\n",
        "I_trapz=trapezoid(f,x)\n",
        "I_trap=(h/2)*(f[0]+2*sum(f[1:n-1])+f[n-1])\n",
        "\n",
        "print(I_trapz)\n",
        "print(I_trap)\n"
      ],
      "metadata": {
        "colab": {
          "base_uri": "https://localhost:8080/"
        },
        "id": "X9571Is85mE2",
        "outputId": "612e15e2-1088-4a5d-aab5-34c16fa8aa9b"
      },
      "execution_count": 19,
      "outputs": [
        {
          "output_type": "stream",
          "name": "stdout",
          "text": [
            "1.9835235375094544\n",
            "1.9835235375094546\n"
          ]
        }
      ]
    },
    {
      "cell_type": "code",
      "source": [
        "from scipy.integrate import quad\n",
        "\n",
        "I_quad, est_err_quad=\\\n",
        "          quad(np.sin,0,np.pi)\n",
        "\n",
        "print(I_quad)\n",
        "err_quad=2-I_quad\n",
        "print(est_err_quad)"
      ],
      "metadata": {
        "colab": {
          "base_uri": "https://localhost:8080/"
        },
        "id": "fHL2jsk_7I7H",
        "outputId": "e07d9b25-c954-4d3e-d189-c545b0801c7d"
      },
      "execution_count": 20,
      "outputs": [
        {
          "output_type": "stream",
          "name": "stdout",
          "text": [
            "2.0\n",
            "2.220446049250313e-14\n"
          ]
        }
      ]
    },
    {
      "cell_type": "code",
      "source": [],
      "metadata": {
        "id": "p0WuhXam8U1g"
      },
      "execution_count": null,
      "outputs": []
    }
  ]
}