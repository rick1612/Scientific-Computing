{
  "nbformat": 4,
  "nbformat_minor": 0,
  "metadata": {
    "colab": {
      "provenance": [],
      "authorship_tag": "ABX9TyOLhT7j0KZcD/FFhdg89hdb",
      "include_colab_link": true
    },
    "kernelspec": {
      "name": "python3",
      "display_name": "Python 3"
    },
    "language_info": {
      "name": "python"
    }
  },
  "cells": [
    {
      "cell_type": "markdown",
      "metadata": {
        "id": "view-in-github",
        "colab_type": "text"
      },
      "source": [
        "<a href=\"https://colab.research.google.com/github/rick1612/Scientific-Computing/blob/main/2802400080_Frederick_Daniel_Wungkana_SC1.ipynb\" target=\"_parent\"><img src=\"https://colab.research.google.com/assets/colab-badge.svg\" alt=\"Open In Colab\"/></a>"
      ]
    },
    {
      "cell_type": "code",
      "execution_count": 1,
      "metadata": {
        "colab": {
          "base_uri": "https://localhost:8080/"
        },
        "id": "eaVKsphJV0M8",
        "outputId": "c21b1f30-3bab-4c05-fa76-5175fa6579bf"
      },
      "outputs": [
        {
          "output_type": "stream",
          "name": "stdout",
          "text": [
            "Masukkan username anda: Bambang\n",
            "Masukkan password anda: 1234\n",
            "Incorrect Password\n",
            "Masukkan username anda: Bambang\n",
            "Masukkan password anda: Bn123\n",
            "Login Berhasil, Selamat datang Bambang\n",
            "Masukkan Nilai UAS: 90\n",
            "Masukkan Nilai UTS: 78\n",
            "Masukkan Nilai Assignment: 98\n",
            "===================================\n",
            "Hasil perolehan nilai Bambang\n",
            "Final Score: 88.0\n",
            "Grade A-\n",
            "===================================\n"
          ]
        }
      ],
      "source": [
        "def login():\n",
        "    username = input(\"Masukkan username anda: \")\n",
        "    password = input(\"Masukkan password anda: \")\n",
        "\n",
        "    correct_password = \"Bn123\"\n",
        "\n",
        "    if password == correct_password:\n",
        "        print(f\"Login Berhasil, Selamat datang {username}\")\n",
        "        calculate_grades(username)\n",
        "    else:\n",
        "        print(\"Incorrect Password\")\n",
        "        login()\n",
        "\n",
        "def calculate_grades(username):\n",
        "    uas = int(input(\"Masukkan Nilai UAS: \"))\n",
        "    uts = int(input(\"Masukkan Nilai UTS: \"))\n",
        "    asg = int(input(\"Masukkan Nilai Assignment: \"))\n",
        "\n",
        "    final_score = (0.5 * uas) + (0.3 * uts) + (0.2 * asg)\n",
        "\n",
        "    if 90 <= final_score <= 100:\n",
        "        grade = \"A\"\n",
        "    elif 85 <= final_score < 90:\n",
        "        grade = \"A-\"\n",
        "    elif 80 <= final_score < 85:\n",
        "        grade = \"B+\"\n",
        "    elif 75 <= final_score < 80:\n",
        "        grade = \"B\"\n",
        "    elif 70 <= final_score < 75:\n",
        "        grade = \"B-\"\n",
        "    elif 65 <= final_score < 70:\n",
        "        grade = \"C\"\n",
        "    elif 50 <= final_score < 65:\n",
        "        grade = \"D\"\n",
        "    else:\n",
        "        grade = \"E\"\n",
        "\n",
        "    print(\"===================================\")\n",
        "    print(f\"Hasil perolehan nilai {username}\")\n",
        "    print(f\"Final Score: {final_score:.1f}\")\n",
        "    print(f\"Grade {grade}\")\n",
        "    print(\"===================================\")\n",
        "\n",
        "\n",
        "login()\n"
      ]
    }
  ]
}