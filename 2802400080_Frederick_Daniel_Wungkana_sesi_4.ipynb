{
  "nbformat": 4,
  "nbformat_minor": 0,
  "metadata": {
    "colab": {
      "provenance": [],
      "authorship_tag": "ABX9TyOvI3CICz1ogjSZPMMmU3mf",
      "include_colab_link": true
    },
    "kernelspec": {
      "name": "python3",
      "display_name": "Python 3"
    },
    "language_info": {
      "name": "python"
    }
  },
  "cells": [
    {
      "cell_type": "markdown",
      "metadata": {
        "id": "view-in-github",
        "colab_type": "text"
      },
      "source": [
        "<a href=\"https://colab.research.google.com/github/rick1612/Scientific-Computing/blob/main/2802400080_Frederick_Daniel_Wungkana_sesi_4.ipynb\" target=\"_parent\"><img src=\"https://colab.research.google.com/assets/colab-badge.svg\" alt=\"Open In Colab\"/></a>"
      ]
    },
    {
      "cell_type": "markdown",
      "source": [
        "**Bisection**"
      ],
      "metadata": {
        "id": "n1-EhOnEy5PF"
      }
    },
    {
      "cell_type": "code",
      "execution_count": 5,
      "metadata": {
        "id": "FTziJMNDltTv"
      },
      "outputs": [],
      "source": [
        "import numpy as np\n",
        "\n",
        "def my_bisection(f, a, b, tol):\n",
        "  # approximates a root, R, of f bounded\n",
        "  # by a and b to within tolerance\n",
        "  # | f(m) | < tol with m the midpoint\n",
        "  # between a and b Recursive implementation\n",
        "\n",
        "  #check if a and b nound a root\n",
        "  if np.sign(f(a)) == np.sign(f(b)):\n",
        "    raise Exception(\"The scalars a and b do not bound a root\")\n",
        "\n",
        "  # get midpoint\n",
        "  m = (a + b)/2\n",
        "\n",
        "  if np.abs(f(m)) < tol:\n",
        "    # stopping condition, report m as root\n",
        "    return m\n",
        "  elif np.sign(f(a)) == np.sign(f(m)):\n",
        "    # case where m is an improvement on a.\n",
        "    # Make recursive call with a = m\n",
        "    return my_bisection(f, m, b, tol)\n",
        "  elif np.sign(f(b)) == np.sign(f(m)):\n",
        "    # case where m is an improvement on b.\n",
        "    # Make recursive call with b = m\n",
        "    return my_bisection(f, a, m, tol)"
      ]
    },
    {
      "cell_type": "code",
      "source": [
        "f = lambda x: x**2 - 2\n",
        "\n",
        "r1 = my_bisection(f, 0, 2, 0.1)\n",
        "print(\"r1 =\", r1)\n",
        "r01 = my_bisection(f, 0, 2, 0.01)\n",
        "print(\"r01 =\", r01)\n",
        "\n",
        "print(\"f(r1) =\", f(r1))\n",
        "print(\"f(r01) =\", f(r01))\n"
      ],
      "metadata": {
        "colab": {
          "base_uri": "https://localhost:8080/"
        },
        "id": "nHIhEDaqvwSJ",
        "outputId": "3eb27576-95d4-4c9e-8b1e-94a55c575d57"
      },
      "execution_count": 6,
      "outputs": [
        {
          "output_type": "stream",
          "name": "stdout",
          "text": [
            "r1 = 1.4375\n",
            "r01 = 1.4140625\n",
            "f(r1) = 0.06640625\n",
            "f(r01) = -0.00042724609375\n"
          ]
        }
      ]
    },
    {
      "cell_type": "markdown",
      "source": [
        "**Newton Raphson**"
      ],
      "metadata": {
        "id": "W-EdLyfZyywv"
      }
    },
    {
      "cell_type": "code",
      "source": [
        "import numpy as np\n",
        "\n",
        "f = lambda x: x**2 - 2\n",
        "f_prime = lambda x: 2*x\n",
        "newton_raphson = 1.4 - (f(1.4))/(f_prime(1.4))\n",
        "\n",
        "print(\"newton_raphson =\", newton_raphson)\n",
        "print(\"sqrt(2) =\", np.sqrt(2))"
      ],
      "metadata": {
        "colab": {
          "base_uri": "https://localhost:8080/"
        },
        "id": "kajq-DWHy26m",
        "outputId": "32060e8f-62de-49ae-8f8a-4c7cd0adcb05"
      },
      "execution_count": 7,
      "outputs": [
        {
          "output_type": "stream",
          "name": "stdout",
          "text": [
            "newton_raphson = 1.4142857142857144\n",
            "sqrt(2) = 1.4142135623730951\n"
          ]
        }
      ]
    },
    {
      "cell_type": "code",
      "source": [
        "def my_newton(f, df, x0, tol):\n",
        "  # output is an estimation of the root of f\n",
        "  # using the Newton Raphson method\n",
        "  # recursive implementation\n",
        "  if abs(f(x0)) < tol:\n",
        "    return x0\n",
        "  else:\n",
        "    return my_newton(f, df, x0 - f(x0)/df(x0), tol)"
      ],
      "metadata": {
        "id": "B77YvbTWzYB9"
      },
      "execution_count": 8,
      "outputs": []
    },
    {
      "cell_type": "code",
      "source": [
        "estimate = my_newton(f, f_prime, 1.5, 1e-6)\n",
        "print(\"estimate =\", estimate)\n",
        "print(\"sqrt(2) =\", np.sqrt(2))"
      ],
      "metadata": {
        "colab": {
          "base_uri": "https://localhost:8080/"
        },
        "id": "GXxEtNNXzuzq",
        "outputId": "e095802a-2f79-4642-ee83-145568e34755"
      },
      "execution_count": 9,
      "outputs": [
        {
          "output_type": "stream",
          "name": "stdout",
          "text": [
            "estimate = 1.4142135623746899\n",
            "sqrt(2) = 1.4142135623730951\n"
          ]
        }
      ]
    },
    {
      "cell_type": "markdown",
      "source": [
        "**MODUL**"
      ],
      "metadata": {
        "id": "z0-nrhtC1r-Y"
      }
    },
    {
      "cell_type": "markdown",
      "source": [
        "**Quiz Bisection**\n",
        "f(x)= sin(x)-x\n",
        "[a,b]=[0,1]\n",
        "tol=0.01"
      ],
      "metadata": {
        "id": "VIwcdI9J2WoI"
      }
    },
    {
      "cell_type": "code",
      "source": [
        "import math\n",
        "\n",
        "def f_bisection(x):\n",
        "    return math.sin(x) - x\n",
        "\n",
        "def bisection_method(a, b, tol):\n",
        "    if f_bisection(a) * f_bisection(b) > 0:\n",
        "        print(\"Tidak ada akar dalam interval ini!\")\n",
        "        return None\n",
        "\n",
        "    while (b - a) / 2 > tol:\n",
        "        m = (a + b) / 2\n",
        "        if f_bisection(m) == 0:\n",
        "            return m\n",
        "        elif f_bisection(a) * f_bisection(m) < 0:\n",
        "            b = m\n",
        "        else:\n",
        "            a = m\n",
        "\n",
        "    return (a + b) / 2\n",
        "\n",
        "# Interval dan toleransi\n",
        "a, b = 0, 1\n",
        "tol = 0.01\n",
        "\n",
        "root_bisection = bisection_method(a, b, tol)\n",
        "print(f\"Akar yang ditemukan (Bisection Method): {root_bisection}\")\n"
      ],
      "metadata": {
        "colab": {
          "base_uri": "https://localhost:8080/"
        },
        "id": "azRUjqzK1xX3",
        "outputId": "2f1a33cb-d8ca-4684-8bdc-496fa8969a05"
      },
      "execution_count": 10,
      "outputs": [
        {
          "output_type": "stream",
          "name": "stdout",
          "text": [
            "Akar yang ditemukan (Bisection Method): 0.9921875\n"
          ]
        }
      ]
    },
    {
      "cell_type": "markdown",
      "source": [
        "**Quiz Newton-Raphson**\n",
        "f(x)= x^3-3x^2+2x\n",
        "x0= 1.5\n",
        "tol= 0.01"
      ],
      "metadata": {
        "id": "GD0btn7E2ZWA"
      }
    },
    {
      "cell_type": "code",
      "source": [
        "def f_newton(x):\n",
        "    return x**3 - 3*x**2 + 2*x\n",
        "\n",
        "def df_newton(x):\n",
        "    return 3*x**2 - 6*x + 2  # Turunan dari f(x)\n",
        "\n",
        "def newton_raphson(x0, tol):\n",
        "    x = x0\n",
        "    while abs(f_newton(x)) > tol:\n",
        "        x = x - f_newton(x) / df_newton(x)\n",
        "    return x\n",
        "\n",
        "# Titik awal dan toleransi\n",
        "x0 = 1.5\n",
        "tol = 0.01\n",
        "\n",
        "root_newton = newton_raphson(x0, tol)\n",
        "print(f\"Akar yang ditemukan (Newton-Raphson Method): {root_newton}\")\n"
      ],
      "metadata": {
        "colab": {
          "base_uri": "https://localhost:8080/"
        },
        "id": "lRKnktvG2Ubh",
        "outputId": "5ac8c9cb-3571-4748-ee6d-a8b26fd2da25"
      },
      "execution_count": 11,
      "outputs": [
        {
          "output_type": "stream",
          "name": "stdout",
          "text": [
            "Akar yang ditemukan (Newton-Raphson Method): 0.0\n"
          ]
        }
      ]
    }
  ]
}