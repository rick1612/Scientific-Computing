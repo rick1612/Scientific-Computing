{
  "nbformat": 4,
  "nbformat_minor": 0,
  "metadata": {
    "colab": {
      "provenance": [],
      "authorship_tag": "ABX9TyPitabU6lwo0yoHqAhhGFNp",
      "include_colab_link": true
    },
    "kernelspec": {
      "name": "python3",
      "display_name": "Python 3"
    },
    "language_info": {
      "name": "python"
    }
  },
  "cells": [
    {
      "cell_type": "markdown",
      "metadata": {
        "id": "view-in-github",
        "colab_type": "text"
      },
      "source": [
        "<a href=\"https://colab.research.google.com/github/rick1612/Scientific-Computing/blob/main/2802400080_Frederick_Daniel_Wungkana_sesi_4.ipynb\" target=\"_parent\"><img src=\"https://colab.research.google.com/assets/colab-badge.svg\" alt=\"Open In Colab\"/></a>"
      ]
    },
    {
      "cell_type": "markdown",
      "source": [
        "**Bisection**"
      ],
      "metadata": {
        "id": "n1-EhOnEy5PF"
      }
    },
    {
      "cell_type": "code",
      "execution_count": null,
      "metadata": {
        "id": "FTziJMNDltTv"
      },
      "outputs": [],
      "source": [
        "import numpy as np\n",
        "\n",
        "def my_bisection(f, a, b, tol):\n",
        "  # approximates a root, R, of f bounded\n",
        "  # by a and b to within tolerance\n",
        "  # | f(m) | < tol with m the midpoint\n",
        "  # between a and b Recursive implementation\n",
        "\n",
        "  #check if a and b nound a root\n",
        "  if np.sign(f(a)) == np.sign(f(b)):\n",
        "    raise Exception(\"The scalars a and b do not bound a root\")\n",
        "\n",
        "  # get midpoint\n",
        "  m = (a + b)/2\n",
        "\n",
        "  if np.abs(f(m)) < tol:\n",
        "    # stopping condition, report m as root\n",
        "    return m\n",
        "  elif np.sign(f(a)) == np.sign(f(m)):\n",
        "    # case where m is an improvement on a.\n",
        "    # Make recursive call with a = m\n",
        "    return my_bisection(f, m, b, tol)\n",
        "  elif np.sign(f(b)) == np.sign(f(m)):\n",
        "    # case where m is an improvement on b.\n",
        "    # Make recursive call with b = m\n",
        "    return my_bisection(f, a, m, tol)"
      ]
    },
    {
      "cell_type": "code",
      "source": [
        "f = lambda x: x**2 - 2\n",
        "\n",
        "r1 = my_bisection(f, 0, 2, 0.1)\n",
        "print(\"r1 =\", r1)\n",
        "r01 = my_bisection(f, 0, 2, 0.01)\n",
        "print(\"r01 =\", r01)\n",
        "\n",
        "print(\"f(r1) =\", f(r1))\n",
        "print(\"f(r01) =\", f(r01))\n"
      ],
      "metadata": {
        "colab": {
          "base_uri": "https://localhost:8080/"
        },
        "id": "nHIhEDaqvwSJ",
        "outputId": "3eb27576-95d4-4c9e-8b1e-94a55c575d57"
      },
      "execution_count": null,
      "outputs": [
        {
          "output_type": "stream",
          "name": "stdout",
          "text": [
            "r1 = 1.4375\n",
            "r01 = 1.4140625\n",
            "f(r1) = 0.06640625\n",
            "f(r01) = -0.00042724609375\n"
          ]
        }
      ]
    },
    {
      "cell_type": "markdown",
      "source": [
        "**Newton Raphson**"
      ],
      "metadata": {
        "id": "W-EdLyfZyywv"
      }
    },
    {
      "cell_type": "code",
      "source": [
        "import numpy as np\n",
        "\n",
        "f = lambda x: x**2 - 2\n",
        "f_prime = lambda x: 2*x\n",
        "newton_raphson = 1.4 - (f(1.4))/(f_prime(1.4))\n",
        "\n",
        "print(\"newton_raphson =\", newton_raphson)\n",
        "print(\"sqrt(2) =\", np.sqrt(2))"
      ],
      "metadata": {
        "colab": {
          "base_uri": "https://localhost:8080/"
        },
        "id": "kajq-DWHy26m",
        "outputId": "32060e8f-62de-49ae-8f8a-4c7cd0adcb05"
      },
      "execution_count": null,
      "outputs": [
        {
          "output_type": "stream",
          "name": "stdout",
          "text": [
            "newton_raphson = 1.4142857142857144\n",
            "sqrt(2) = 1.4142135623730951\n"
          ]
        }
      ]
    },
    {
      "cell_type": "code",
      "source": [
        "def my_newton(f, df, x0, tol):\n",
        "  # output is an estimation of the root of f\n",
        "  # using the Newton Raphson method\n",
        "  # recursive implementation\n",
        "  if abs(f(x0)) < tol:\n",
        "    return x0\n",
        "  else:\n",
        "    return my_newton(f, df, x0 - f(x0)/df(x0), tol)"
      ],
      "metadata": {
        "id": "B77YvbTWzYB9"
      },
      "execution_count": null,
      "outputs": []
    },
    {
      "cell_type": "code",
      "source": [
        "estimate = my_newton(f, f_prime, 1.5, 1e-6)\n",
        "print(\"estimate =\", estimate)\n",
        "print(\"sqrt(2) =\", np.sqrt(2))"
      ],
      "metadata": {
        "colab": {
          "base_uri": "https://localhost:8080/"
        },
        "id": "GXxEtNNXzuzq",
        "outputId": "e095802a-2f79-4642-ee83-145568e34755"
      },
      "execution_count": null,
      "outputs": [
        {
          "output_type": "stream",
          "name": "stdout",
          "text": [
            "estimate = 1.4142135623746899\n",
            "sqrt(2) = 1.4142135623730951\n"
          ]
        }
      ]
    },
    {
      "cell_type": "markdown",
      "source": [
        "**MODUL**"
      ],
      "metadata": {
        "id": "z0-nrhtC1r-Y"
      }
    },
    {
      "cell_type": "markdown",
      "source": [
        "**Quiz Bisection**\n",
        "\n",
        "f(x)= sin(x)-x\n",
        "\n",
        "[a,b]=[0,1]\n",
        "\n",
        "tol=0.01"
      ],
      "metadata": {
        "id": "VIwcdI9J2WoI"
      }
    },
    {
      "cell_type": "code",
      "source": [
        "import math\n",
        "\n",
        "def bisection_method(f, a, b, tolerance):\n",
        "    if f(a) * f(b) >= 0:\n",
        "        print(\"Bisection method fails (no root or multiple roots in the interval).\")\n",
        "        return None\n",
        "\n",
        "    while (b - a) / 2 > tolerance:\n",
        "        c = (a + b) / 2\n",
        "        if abs(f(c)) < 1e-6:  # Check if f(c) ≈ 0\n",
        "            return c\n",
        "        elif f(a) * f(c) < 0:\n",
        "            b = c\n",
        "        else:\n",
        "            a = c\n",
        "\n",
        "    root = (a + b) / 2\n",
        "    if abs(root) < 1e-6:  # Force x=0 if very close\n",
        "        return 0.0\n",
        "    else:\n",
        "        return root\n",
        "\n",
        "# Define the function\n",
        "def f(x):\n",
        "    return math.sin(x) - x\n",
        "\n",
        "# Initial interval (adjusted to ensure f(a)*f(b) < 0)\n",
        "a = -1  # f(-1) ≈ 0.8415\n",
        "b = 1   # f(1) ≈ -0.1585\n",
        "tolerance = 0.01\n",
        "\n",
        "# Apply bisection method\n",
        "root = bisection_method(f, a, b, tolerance)\n",
        "\n",
        "# Handle None case gracefully\n",
        "if root is not None:\n",
        "    print(f\"Approximate root: {root:.4f}\")\n",
        "    print(f\"Function value at root: {f(root):.6f}\")\n",
        "    print(f\"Interval width: {abs(b - a)/2:.6f} (should be <= {tolerance})\")\n",
        "else:\n",
        "    print(\"Could not find a root in the given interval.\")"
      ],
      "metadata": {
        "colab": {
          "base_uri": "https://localhost:8080/"
        },
        "id": "V0yinnS1-J9w",
        "outputId": "937d8597-b0b9-42ca-9bcd-09b5100335ba"
      },
      "execution_count": 22,
      "outputs": [
        {
          "output_type": "stream",
          "name": "stdout",
          "text": [
            "Approximate root: 0.0000\n",
            "Function value at root: 0.000000\n",
            "Interval width: 1.000000 (should be <= 0.01)\n"
          ]
        }
      ]
    },
    {
      "cell_type": "markdown",
      "source": [
        "**Quiz Newton-Raphson**\n",
        "\n",
        "f(x)= x^3-3x^2+2x\n",
        "\n",
        "x0= 1.5\n",
        "\n",
        "tol= 0.01"
      ],
      "metadata": {
        "id": "GD0btn7E2ZWA"
      }
    },
    {
      "cell_type": "code",
      "source": [
        "def newton_raphson(f, df, x0, tol, max_iter=100):\n",
        "    for i in range(max_iter):\n",
        "        fx = f(x0)\n",
        "        dfx = df(x0)\n",
        "\n",
        "        if abs(fx) < tol:\n",
        "            return x0, i+1\n",
        "\n",
        "        if dfx == 0:\n",
        "            print(\"Zero derivative. No solution found.\")\n",
        "            return None\n",
        "\n",
        "        x1 = x0 - fx / dfx\n",
        "\n",
        "        if abs(x1 - x0) < tol:\n",
        "            return x1, i+1\n",
        "\n",
        "        x0 = x1\n",
        "\n",
        "    print(\"Maximum iterations reached without convergence.\")\n",
        "    return x0, max_iter\n",
        "\n",
        "# Define the function and its derivative\n",
        "f = lambda x: x**3 - 3*x**2 + 2*x\n",
        "df = lambda x: 3*x**2 - 6*x + 2\n",
        "\n",
        "# Initial guess\n",
        "x0 = 1.5\n",
        "tolerance = 0.01\n",
        "\n",
        "# Apply Newton-Raphson method\n",
        "root, iterations = newton_raphson(f, df, x0, tolerance)\n",
        "\n",
        "print(f\"\\nNewton-Raphson Method Result: x = {root:.4f}\")\n",
        "print(f\"Function value at root: f(x) = {f(root):.6f}\")\n",
        "print(f\"Number of iterations needed: {iterations}\")"
      ],
      "metadata": {
        "colab": {
          "base_uri": "https://localhost:8080/"
        },
        "id": "lRKnktvG2Ubh",
        "outputId": "73c03367-cd8a-4b16-8766-5c7bf0a4cd9e"
      },
      "execution_count": null,
      "outputs": [
        {
          "output_type": "stream",
          "name": "stdout",
          "text": [
            "\n",
            "Newton-Raphson Method Result: x = 0.0000\n",
            "Function value at root: f(x) = 0.000000\n",
            "Number of iterations needed: 2\n"
          ]
        }
      ]
    }
  ]
}